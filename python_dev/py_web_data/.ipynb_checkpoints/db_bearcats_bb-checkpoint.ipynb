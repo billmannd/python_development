{
 "cells": [
  {
   "cell_type": "code",
   "execution_count": 146,
   "metadata": {
    "collapsed": false
   },
   "outputs": [],
   "source": [
    "from bs4 import BeautifulSoup as bs\n",
    "from bs4 import BeautifulStoneSoup as bss\n",
    "from urllib.request import urlopen\n",
    "import lxml\n",
    "import re\n",
    "import html"
   ]
  },
  {
   "cell_type": "code",
   "execution_count": 61,
   "metadata": {
    "collapsed": true
   },
   "outputs": [],
   "source": [
    "uc = \"http://www.gobearcats.com/sports/m-baskbl/stats/2016-2017/teamcume.html\"\n",
    "uc_record = \"http://www.gobearcats.com/sports/m-baskbl/stats/2016-2017/teamstat.html\""
   ]
  },
  {
   "cell_type": "code",
   "execution_count": 83,
   "metadata": {
    "collapsed": false
   },
   "outputs": [],
   "source": [
    "url = urlopen(uc_record)"
   ]
  },
  {
   "cell_type": "code",
   "execution_count": 84,
   "metadata": {
    "collapsed": false
   },
   "outputs": [],
   "source": [
    "soup = bs(url, \"html.parser\")"
   ]
  },
  {
   "cell_type": "code",
   "execution_count": 155,
   "metadata": {
    "collapsed": false
   },
   "outputs": [
    {
     "data": {
      "text/plain": [
       "[None,\n",
       " None,\n",
       " None,\n",
       " None,\n",
       " None,\n",
       " None,\n",
       " None,\n",
       " None,\n",
       " None,\n",
       " None,\n",
       " None,\n",
       " None,\n",
       " None,\n",
       " None,\n",
       " None,\n",
       " None]"
      ]
     },
     "execution_count": 155,
     "metadata": {},
     "output_type": "execute_result"
    }
   ],
   "source": [
    "allTags = []\n",
    "tTags = soup.findAll(re.compile('^tr'))\n",
    "#[allTags.append({tag.name: html.unescape(tag.get_text())}) for tag in tTags]\n",
    "#allTags[0]\n",
    "[allTags.append(tag.getText().split('xa0')) for tag in tTags]"
   ]
  },
  {
   "cell_type": "code",
   "execution_count": 174,
   "metadata": {
    "collapsed": false
   },
   "outputs": [],
   "source": [
    "tag1 = allTags[0]"
   ]
  },
  {
   "cell_type": "code",
   "execution_count": 175,
   "metadata": {
    "collapsed": false
   },
   "outputs": [
    {
     "data": {
      "text/plain": [
       "[' \\n\\n \\n\\n\\n\\n\\n\\n2016-17 Cincinnati Basketball\\n\\nSeason Statistics\\nGame-by-Game Statistics\\nGame Highs and Lows\\n\\r\\nCIN     /Cincinnati\\r\\nGame Results\\n\\n\\nDate\\nLocation\\nResult\\n\\xa0\\n\\n\\n01/01/17\\xa0\\nCincinnati, Ohio (Fifth Third Arena)    \\xa0\\nCincinnati 92, Tulane 56\\xa0\\nBox score\\xa0\\n\\n\\n12/28/16\\xa0\\nPhiladelphia, Pa. (Liacouras Center)    \\xa0\\nCincinnati 56, Temple 50\\xa0\\nBox score\\xa0\\n\\n\\n12/22/16\\xa0\\nCincinnati, Ohio (Fifth Third Arena)    \\xa0\\nCincinnati 93, Marshall 91\\xa0\\nBox score\\xa0\\n\\n\\n12/17/16\\xa0\\nCincinnati, Ohio (Fifth Third Arena)    \\xa0\\nCincinnati 119, Fairleigh Dickinson 68\\xa0\\nBox score\\xa0\\n\\n\\n12/13/16\\xa0\\nCincinnati, Ohio (Fifth Third Arena)    \\xa0\\nCincinnati 96, Texas Southern 58\\xa0\\nBox score\\xa0\\n\\n\\n12/10/16\\xa0\\nIndianapolis, Ind. -- Hinkle Fieldhouse \\xa0\\nButler 75, Cincinnati 65\\xa0\\nBox score\\xa0\\n\\n\\n12/04/16\\xa0\\nCincinnati, Ohio (Fifth Third Arena)    \\xa0\\nCincinnati 85, Bowling Green 56\\xa0\\nBox score\\xa0\\n\\n\\n12-01-16\\xa0\\nHilton Coliseum - Ames, Iowa            \\xa0\\nCincinnati 55, Iowa State 54\\xa0\\nBox score\\xa0\\n\\n\\n11/26/16\\xa0\\nCincinnati, Ohio (Fifth Third Arena)    \\xa0\\nCincinnati 91, Lipscomb 68\\xa0\\nBox score\\xa0\\n\\n\\n11/23/16\\xa0\\nCincinnati, Ohio (Fifth Third Arena)    \\xa0\\nCincinnati 70, Samford 55\\xa0\\nBox score\\xa0\\n\\n\\n11/20/16\\xa0\\nMOHEGAN SUN ARENA                       \\xa0\\nCincinnati 71, Penn State 50\\xa0\\nBox score\\xa0\\n\\n\\n11/19/16\\xa0\\nMOHEGAN SUN ARENA                       \\xa0\\nRhode Island 76, Cincinnati 71\\xa0\\nBox score\\xa0\\n\\n\\n11/14/16\\xa0\\nCincinnati, Ohio (Fifth Third Arena)    \\xa0\\nCincinnati 74, Albany 51\\xa0\\nBox score\\xa0\\n\\n\\n11/11/16\\xa0\\nFifth Third Arena (Cincinnati, Ohio)    \\xa0\\nCincinnati 84, Brown 55\\xa0\\nBox score\\xa0\\n\\n\\n\\n\\n\\n\\n']"
      ]
     },
     "execution_count": 175,
     "metadata": {},
     "output_type": "execute_result"
    }
   ],
   "source": [
    "tag1"
   ]
  },
  {
   "cell_type": "markdown",
   "metadata": {},
   "source": [
    "# Most Recent Thoughts"
   ]
  },
  {
   "cell_type": "code",
   "execution_count": 178,
   "metadata": {
    "collapsed": true
   },
   "outputs": [],
   "source": [
    "# You left off here wondering several things: \n",
    "# 1. how to find the correct data source\n",
    "# 2. Is RPI a rolling ranking or static? \n",
    "# 2a. Rolling Ranking would be way more interesting but static would be easier"
   ]
  },
  {
   "cell_type": "code",
   "execution_count": null,
   "metadata": {
    "collapsed": true
   },
   "outputs": [],
   "source": []
  }
 ],
 "metadata": {
  "anaconda-cloud": {},
  "kernelspec": {
   "display_name": "Python [conda root]",
   "language": "python",
   "name": "conda-root-py"
  },
  "language_info": {
   "codemirror_mode": {
    "name": "ipython",
    "version": 3
   },
   "file_extension": ".py",
   "mimetype": "text/x-python",
   "name": "python",
   "nbconvert_exporter": "python",
   "pygments_lexer": "ipython3",
   "version": "3.5.2"
  }
 },
 "nbformat": 4,
 "nbformat_minor": 1
}
