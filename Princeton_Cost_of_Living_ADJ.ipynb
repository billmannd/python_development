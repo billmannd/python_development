{
 "cells": [
  {
   "cell_type": "code",
   "execution_count": 10,
   "metadata": {
    "collapsed": true
   },
   "outputs": [],
   "source": [
    "# Cincinnati\n",
    "c_salary = 4583.333333333333\n",
    "c_rent = 1000\n",
    "c_utilities = 0\n",
    "c_food = 80\n",
    "c_car = 0\n",
    "c_health = 0 \n",
    "c_auto_insurance = 0\n",
    "c_auto_upkeep = 60 \n",
    "c_internet = 0\n",
    "c_phone = 50"
   ]
  },
  {
   "cell_type": "code",
   "execution_count": 12,
   "metadata": {
    "collapsed": false
   },
   "outputs": [],
   "source": [
    "# Princeton\n",
    "p_salary = 5541.666666666667\n",
    "p_rent = 1500\n",
    "p_utilities = 200\n",
    "p_food = 30\n",
    "p_car = 0\n",
    "p_health = 0 \n",
    "p_auto_insurance = 400\n",
    "p_auto_upkeep = c_auto_upkeep*1.25 \n",
    "p_internet = 50\n",
    "p_phone = 50"
   ]
  },
  {
   "cell_type": "code",
   "execution_count": 13,
   "metadata": {
    "collapsed": false
   },
   "outputs": [
    {
     "data": {
      "text/plain": [
       "3281.666666666667"
      ]
     },
     "execution_count": 13,
     "metadata": {},
     "output_type": "execute_result"
    }
   ],
   "source": [
    "p_salary - p_rent - p_utilities - p_food - p_food - p_auto_insurance - p_auto_upkeep - p_internet - p_phone"
   ]
  },
  {
   "cell_type": "code",
   "execution_count": 14,
   "metadata": {
    "collapsed": false
   },
   "outputs": [
    {
     "data": {
      "text/plain": [
       "33250.0"
      ]
     },
     "execution_count": 14,
     "metadata": {},
     "output_type": "execute_result"
    }
   ],
   "source": [
    "p_salary*6"
   ]
  },
  {
   "cell_type": "code",
   "execution_count": null,
   "metadata": {
    "collapsed": true
   },
   "outputs": [],
   "source": []
  }
 ],
 "metadata": {
  "anaconda-cloud": {},
  "kernelspec": {
   "display_name": "Python [conda root]",
   "language": "python",
   "name": "conda-root-py"
  },
  "language_info": {
   "codemirror_mode": {
    "name": "ipython",
    "version": 3
   },
   "file_extension": ".py",
   "mimetype": "text/x-python",
   "name": "python",
   "nbconvert_exporter": "python",
   "pygments_lexer": "ipython3",
   "version": "3.5.2"
  }
 },
 "nbformat": 4,
 "nbformat_minor": 2
}
