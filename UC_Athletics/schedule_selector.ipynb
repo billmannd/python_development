{
 "cells": [
  {
   "cell_type": "markdown",
   "metadata": {},
   "source": [
    "## Schedule Selector\n",
    "Simulates four types of schedules, strong, medium-strong, medium-weak, and weak, about 19000 times and then pulls the RPIs from each schedule and plots them into a box plot"
   ]
  },
  {
   "cell_type": "code",
   "execution_count": 1,
   "metadata": {
    "collapsed": false
   },
   "outputs": [],
   "source": [
    "import numpy as np\n",
    "import pandas as pd\n",
    "from collections import Counter\n",
    "import seaborn as sns\n",
    "import matplotlib.pyplot as plt\n",
    "from math import sqrt\n",
    "from scipy import stats\n",
    "%matplotlib inline"
   ]
  },
  {
   "cell_type": "code",
   "execution_count": 2,
   "metadata": {
    "collapsed": true
   },
   "outputs": [],
   "source": [
    "df = pd.read_excel('full_Raw_Data.xlsx')"
   ]
  },
  {
   "cell_type": "code",
   "execution_count": 3,
   "metadata": {
    "collapsed": true
   },
   "outputs": [],
   "source": [
    "def rpi_ranker(df):\n",
    "    '''\n",
    "    Purpose: add rankings to each year from 2014-2016\n",
    "    \n",
    "    df: dataframe object that needs to be split then ranked by year \n",
    "    '''\n",
    "    # Group the data frame by year\n",
    "    year = df.groupby('Year')\n",
    "    df_4 = year.get_group(2014)\n",
    "    df_5 = year.get_group(2015)\n",
    "    df_6 = year.get_group(2016)\n",
    "    \n",
    "    # add to array to prepare for looping\n",
    "    years = [df_4,df_5,df_6]\n",
    "    \n",
    "    # set open list, loop through years\n",
    "    df_rankings = []\n",
    "    for df in years:\n",
    "    # Replace null values with numpy\n",
    "        tournament = df['Tournament']\n",
    "        tournament = tournament.fillna(0)\n",
    "        df['Tournament'] = tournament\n",
    "    \n",
    "    # Set a numpy array equal to the length of the dataframe\n",
    "        rpi_rank = np.arange(1,len(df['Tournament'])+1)\n",
    "    \n",
    "    # create and set rpi_rank equal to the 'RPI RANK' dataframe column\n",
    "        df['RPI RANK'] = rpi_rank\n",
    "        df_rankings.append(df)\n",
    "    \n",
    "    df_ranked = pd.concat([df for df in df_rankings], axis=0)\n",
    "    #return the updated data frame value \n",
    "    return df_ranked"
   ]
  },
  {
   "cell_type": "code",
   "execution_count": 4,
   "metadata": {
    "collapsed": false
   },
   "outputs": [
    {
     "name": "stderr",
     "output_type": "stream",
     "text": [
      "/Users/danielbillmann/anaconda/lib/python3.5/site-packages/ipykernel/__main__.py:22: SettingWithCopyWarning: \n",
      "A value is trying to be set on a copy of a slice from a DataFrame.\n",
      "Try using .loc[row_indexer,col_indexer] = value instead\n",
      "\n",
      "See the caveats in the documentation: http://pandas.pydata.org/pandas-docs/stable/indexing.html#indexing-view-versus-copy\n",
      "/Users/danielbillmann/anaconda/lib/python3.5/site-packages/ipykernel/__main__.py:28: SettingWithCopyWarning: \n",
      "A value is trying to be set on a copy of a slice from a DataFrame.\n",
      "Try using .loc[row_indexer,col_indexer] = value instead\n",
      "\n",
      "See the caveats in the documentation: http://pandas.pydata.org/pandas-docs/stable/indexing.html#indexing-view-versus-copy\n"
     ]
    }
   ],
   "source": [
    "df_ranked = rpi_ranker(df)"
   ]
  },
  {
   "cell_type": "code",
   "execution_count": 6,
   "metadata": {
    "collapsed": false
   },
   "outputs": [],
   "source": [
    "top_40_opp_sos = df_ranked[(df_ranked['RPI RANK']<=40)]['Opp SOS'].mean()\n",
    "top_40_sos = df_ranked[(df_ranked['RPI RANK']<=40)]['SOS'].mean()\n",
    "top_40_wp = df_ranked[(df_ranked['RPI RANK']<=40)]['WIN %'].mean()\n",
    "\n",
    "\n",
    "top_80_opp_sos = df_ranked[(df_ranked['RPI RANK']>40) & (df_ranked['RPI RANK']<=80)]['Opp SOS'].mean()\n",
    "top_80_sos = df_ranked[(df_ranked['RPI RANK']>40) & (df_ranked['RPI RANK']<=80)]['SOS'].mean()\n",
    "top_80_wp = df_ranked[(df_ranked['RPI RANK']>40) & (df_ranked['RPI RANK']<=80)]['WIN %'].mean()\n",
    "\n",
    "top_120_opp_sos = df_ranked[(df_ranked['RPI RANK']>80) & (df_ranked['RPI RANK']<=120)]['Opp SOS'].mean()\n",
    "top_120_sos = df_ranked[(df_ranked['RPI RANK']>80) & (df_ranked['RPI RANK']<=120)]['SOS'].mean()\n",
    "top_120_wp = df_ranked[(df_ranked['RPI RANK']>80) & (df_ranked['RPI RANK']<=120)]['WIN %'].mean()\n",
    "\n",
    "top_200_opp_sos = df_ranked[(df_ranked['RPI RANK']>120) & (df_ranked['RPI RANK']<=200)]['Opp SOS'].mean()\n",
    "top_200_sos = df_ranked[(df_ranked['RPI RANK']>120) & (df_ranked['RPI RANK']<=200)]['SOS'].mean()\n",
    "top_200_wp = df_ranked[(df_ranked['RPI RANK']>120) & (df_ranked['RPI RANK']<=200)]['WIN %'].mean()"
   ]
  },
  {
   "cell_type": "code",
   "execution_count": 7,
   "metadata": {
    "collapsed": false
   },
   "outputs": [],
   "source": [
    "new_groupings = pd.DataFrame(data=[\n",
    "        ['Top 40',top_40_wp,top_40_sos,top_40_opp_sos],\n",
    "        ['Top 80',top_80_wp,top_80_sos,top_80_opp_sos],['Top 120',top_120_wp,top_120_sos,top_120_opp_sos],\n",
    "        ['Top 200',top_200_wp,top_200_sos,top_200_opp_sos]],\n",
    "            columns=['Team','WP','SOS','OPP SOS'])"
   ]
  },
  {
   "cell_type": "code",
   "execution_count": 9,
   "metadata": {
    "collapsed": false
   },
   "outputs": [
    {
     "data": {
      "text/html": [
       "<div>\n",
       "<table border=\"1\" class=\"dataframe\">\n",
       "  <thead>\n",
       "    <tr style=\"text-align: right;\">\n",
       "      <th></th>\n",
       "      <th>Team</th>\n",
       "      <th>WP</th>\n",
       "      <th>SOS</th>\n",
       "      <th>OPP SOS</th>\n",
       "    </tr>\n",
       "  </thead>\n",
       "  <tbody>\n",
       "    <tr>\n",
       "      <th>0</th>\n",
       "      <td>Top 40</td>\n",
       "      <td>0.729147</td>\n",
       "      <td>0.593709</td>\n",
       "      <td>0.559943</td>\n",
       "    </tr>\n",
       "  </tbody>\n",
       "</table>\n",
       "</div>"
      ],
      "text/plain": [
       "     Team        WP       SOS   OPP SOS\n",
       "0  Top 40  0.729147  0.593709  0.559943"
      ]
     },
     "execution_count": 9,
     "metadata": {},
     "output_type": "execute_result"
    }
   ],
   "source": [
    "new_groupings[(new_groupings['Team']=='Top 40')]"
   ]
  },
  {
   "cell_type": "code",
   "execution_count": 136,
   "metadata": {
    "collapsed": true
   },
   "outputs": [],
   "source": [
    "def build_levers():\n",
    "    sched_titles = ['Top 40','Top 80','Top 120','Top 200']\n",
    "    home_probs = [[.25,.25,.5],[.45,.3,.25],[.6,.2,.2],[.75,.15,.1]]\n",
    "    away_probs = [[.15,.2,.65],[.3,.3,.4],[.45,.25,.3],[.65,.15,.2]]\n",
    "    levers = []\n",
    "    for i in range(0,len(sched_titles)):\n",
    "        levers.append([sched_titles[i],home_probs[i],away_probs[i]])\n",
    "    df_levers = pd.DataFrame(levers,columns=['Team','Home_Probs','Away_Probs'])\n",
    "    return df_levers"
   ]
  },
  {
   "cell_type": "code",
   "execution_count": 137,
   "metadata": {
    "collapsed": false
   },
   "outputs": [
    {
     "data": {
      "text/html": [
       "<div>\n",
       "<table border=\"1\" class=\"dataframe\">\n",
       "  <thead>\n",
       "    <tr style=\"text-align: right;\">\n",
       "      <th></th>\n",
       "      <th>Team</th>\n",
       "      <th>Home_Probs</th>\n",
       "      <th>Away_Probs</th>\n",
       "    </tr>\n",
       "  </thead>\n",
       "  <tbody>\n",
       "    <tr>\n",
       "      <th>0</th>\n",
       "      <td>Top 40</td>\n",
       "      <td>[0.25, 0.25, 0.5]</td>\n",
       "      <td>[0.15, 0.2, 0.65]</td>\n",
       "    </tr>\n",
       "    <tr>\n",
       "      <th>1</th>\n",
       "      <td>Top 80</td>\n",
       "      <td>[0.45, 0.3, 0.25]</td>\n",
       "      <td>[0.3, 0.3, 0.4]</td>\n",
       "    </tr>\n",
       "    <tr>\n",
       "      <th>2</th>\n",
       "      <td>Top 120</td>\n",
       "      <td>[0.6, 0.2, 0.2]</td>\n",
       "      <td>[0.45, 0.25, 0.3]</td>\n",
       "    </tr>\n",
       "    <tr>\n",
       "      <th>3</th>\n",
       "      <td>Top 200</td>\n",
       "      <td>[0.75, 0.15, 0.1]</td>\n",
       "      <td>[0.65, 0.15, 0.2]</td>\n",
       "    </tr>\n",
       "  </tbody>\n",
       "</table>\n",
       "</div>"
      ],
      "text/plain": [
       "      Team         Home_Probs         Away_Probs\n",
       "0   Top 40  [0.25, 0.25, 0.5]  [0.15, 0.2, 0.65]\n",
       "1   Top 80  [0.45, 0.3, 0.25]    [0.3, 0.3, 0.4]\n",
       "2  Top 120    [0.6, 0.2, 0.2]  [0.45, 0.25, 0.3]\n",
       "3  Top 200  [0.75, 0.15, 0.1]  [0.65, 0.15, 0.2]"
      ]
     },
     "execution_count": 137,
     "metadata": {},
     "output_type": "execute_result"
    }
   ],
   "source": [
    "df_levers = build_levers()\n",
    "df_levers"
   ]
  },
  {
   "cell_type": "code",
   "execution_count": 138,
   "metadata": {
    "collapsed": true
   },
   "outputs": [],
   "source": [
    "def non_conf_result_probs(group,probabilities,location):\n",
    "    '''\n",
    "    function that takes two arguments, group and probabilities\n",
    "    group: is the group that the team fits into (Top 20,40, etc)\n",
    "    probabilities: the probability of winning, drawing, or losing to the group mentioned\n",
    "    location: where the game is being played\n",
    "    the function returns the likelihood of each result against each team as well as the result as an array\n",
    "    '''\n",
    "    schedule_weighted_probs = []\n",
    "    outcome = []\n",
    "    count = 0\n",
    "    for i,j,k in zip(group,probabilities,location):\n",
    "        opt = ['W','D','L']\n",
    "        name = i\n",
    "        wp = j[0]\n",
    "        dp = j[1]\n",
    "        lp = j[2]\n",
    "        z = np.random.choice(opt,10000, p=[wp,dp,lp])\n",
    "        w = (np.count_nonzero(z=='W'))/10000\n",
    "        d = (np.count_nonzero(z=='D'))/10000\n",
    "        l = (np.count_nonzero(z=='L'))/10000\n",
    "        outcome.append(np.random.choice(opt,1,p=[w,d,l]))\n",
    "        schedule_weighted_probs.append([name,w,d,l,str(outcome[count][0]),k])\n",
    "        count +=1\n",
    "        n_c_r = pd.DataFrame(schedule_weighted_probs,columns=[\"Team\",\"Win_Prob\",\"Draw_Prob\",\"Loss_Prob\",\"Result\",\"Location\"])\n",
    "    return n_c_r"
   ]
  },
  {
   "cell_type": "code",
   "execution_count": 139,
   "metadata": {
    "collapsed": true
   },
   "outputs": [],
   "source": [
    "def add_team_profiles(nonconference_schedule):\n",
    "    '''\n",
    "    takes nonconference_schedule and matches the winning percentage and strength of schedule based on the team type\n",
    "    '''\n",
    "    wp = []\n",
    "    sos = []\n",
    "    for i in nonconference_schedule.Team: \n",
    "        for j,k,l in zip(new_groupings.Team,new_groupings.WP,new_groupings.SOS):\n",
    "            if i in j:\n",
    "                wp.append(k)\n",
    "                sos.append(l)\n",
    "    nonconference_schedule['WP'] = wp\n",
    "    nonconference_schedule['SOS'] = sos\n",
    "    return nonconference_schedule"
   ]
  },
  {
   "cell_type": "code",
   "execution_count": 140,
   "metadata": {
    "collapsed": true
   },
   "outputs": [],
   "source": [
    "conf_schedule_probs = [\n",
    " ['SMU', 0.4, 0.2, 0.4],\n",
    " ['Houston', 0.6, 0.25, 0.15],\n",
    " ['UConn', 0.5, 0.25, 0.25],\n",
    " ['Temple', 0.6, 0.2, 0.2],\n",
    " ['UCF', 0.65, 0.2, 0.15],\n",
    " ['South Fla.', 0.55, 0.25, 0.2],\n",
    " ['Tulsa', 0.63, 0.23, 0.14],\n",
    " ['Memphis', 0.4, 0.3, 0.3],\n",
    " ['East Carolina', 0.8, 0.15, 0.05]]"
   ]
  },
  {
   "cell_type": "code",
   "execution_count": 141,
   "metadata": {
    "collapsed": true
   },
   "outputs": [],
   "source": [
    "#conf_schedule_probs = [\n",
    "# ['SMU', 0.4, 0.2, 0.4],\n",
    "# ['Houston', 0.6, 0.25, 0.15],\n",
    "# ['UConn', 0.5, 0.25, 0.25],\n",
    "# ['Temple', 0.6, 0.2, 0.2],\n",
    "# ['UCF', 0.65, 0.2, 0.15],\n",
    "# ['South Fla.', 0.55, 0.25, 0.2],\n",
    "# ['Tulsa', 0.63, 0.23, 0.14],\n",
    "# ['Memphis', 0.4, 0.3, 0.3],\n",
    "# ['East Carolina', 0.8, 0.15, 0.05]]"
   ]
  },
  {
   "cell_type": "code",
   "execution_count": 142,
   "metadata": {
    "collapsed": true
   },
   "outputs": [],
   "source": [
    "def conf_result_probs(conf_schedule_probs):\n",
    "    '''\n",
    "    function that takes list \"first_schedule_probs\" as its argument\n",
    "    each probability item in first_schedule_probs will be used to make simulation of probabilities for each team\n",
    "    \n",
    "    the function returns the likelihood of each result against each team as well as the result as an array\n",
    "    '''\n",
    "    schedule_weighted_probs = []\n",
    "    outcome = []\n",
    "    count = 0\n",
    "    for i in conf_schedule_probs:\n",
    "        opt = ['W','D','L']\n",
    "        name = i[0]\n",
    "        wp = i[1]\n",
    "        dp = i[2]\n",
    "        lp = i[3]\n",
    "        z = np.random.choice(opt,10000, p=[wp,dp,lp])\n",
    "        w = (np.count_nonzero(z=='W'))/10000\n",
    "        d = (np.count_nonzero(z=='D'))/10000\n",
    "        l = (np.count_nonzero(z=='L'))/10000\n",
    "        outcome.append(np.random.choice(opt,1,p=[w,d,l]))\n",
    "        schedule_weighted_probs.append([name,w,d,l,str(outcome[count][0])])\n",
    "        count +=1\n",
    "    return schedule_weighted_probs"
   ]
  },
  {
   "cell_type": "code",
   "execution_count": 143,
   "metadata": {
    "collapsed": true
   },
   "outputs": [],
   "source": [
    "conf_results = conf_result_probs(conf_schedule_probs)"
   ]
  },
  {
   "cell_type": "code",
   "execution_count": 144,
   "metadata": {
    "collapsed": true
   },
   "outputs": [],
   "source": [
    "conf_schedule = pd.DataFrame(data=conf_results,columns=[\"Team\",\"Win_Prob\",\"Draw_Prob\",\"Loss_Prob\",\"Result\"])"
   ]
  },
  {
   "cell_type": "code",
   "execution_count": 145,
   "metadata": {
    "collapsed": false
   },
   "outputs": [],
   "source": [
    "conf_schedule['WP'] = [.6364,.4688,.8478,.1520,.5263,.7105,.4474,.7250,.3056]\n",
    "conf_schedule['SOS'] = [.5819,.4665,.5759,.5039,.5856,.4930,.5899,.5543,.5148]\n",
    "conf_schedule['Location'] = ['A','A','A','A','H','H','H','H','H']"
   ]
  },
  {
   "cell_type": "code",
   "execution_count": 146,
   "metadata": {
    "collapsed": false
   },
   "outputs": [],
   "source": [
    "def final_season_calculations(full_schedule):\n",
    "    \"\"\"\n",
    "    This is the final season calculations\n",
    "    \n",
    "    Inputs:\n",
    "    full_schedule: a dataframe of what UC's schedule and season results might look like in the future. \n",
    "    \n",
    "    Returns:\n",
    "    cinci_2017_d: a single row data frame of UC's season results\n",
    "    \"\"\"\n",
    "    season_sum = Counter(full_schedule[\"Result\"])\n",
    "    d = season_sum['D'] # draws\n",
    "    l = season_sum['L'] # losses\n",
    "    w = season_sum['W']# wins\n",
    "    uc_wp = (w + (.5 * d))/(w + l + d)\n",
    "    sos = full_schedule['WP'].mean()\n",
    "    opp_sos = full_schedule['SOS'].mean()\n",
    "    uc_2017_rpi = (.25 * uc_wp) + (.5 * sos) + (.25 * opp_sos)\n",
    "    cinci_2017_d = ['Cincinnati 2017', 'AAC',w,l,d,uc_wp,sos,opp_sos,uc_2017_rpi,'2017-Based Future']\n",
    "    cinci_2017_d = pd.DataFrame(data=[cinci_2017_d],columns=['Team','Conference','W','L','D', 'WIN_%','SOS','Opp_SOS','RPI','Year'])\n",
    "    return cinci_2017_d"
   ]
  },
  {
   "cell_type": "markdown",
   "metadata": {},
   "source": [
    "Strong schedule: while \"a\" (top 40) goes up, decrease b by 1, c by 2, and d by 2\n",
    "Medium-strong schedule: while \"b\" (top 80) goes up, decrease a by 2, c by 1, and d by 2\n",
    "Medium-weak schedule: while \"c\" (top 120) goes up, decrease a by 2, b by 1, and d by 2\n",
    "weak schedule: while \"d\" (top 80) goes up, decrease a by 2, b by 2, and c by 1"
   ]
  },
  {
   "cell_type": "code",
   "execution_count": 147,
   "metadata": {
    "collapsed": false
   },
   "outputs": [],
   "source": [
    "# strong \n",
    "def strong_schedule():\n",
    "    game = []\n",
    "    a = 25\n",
    "    b = 25\n",
    "    c = 25\n",
    "    d = 25\n",
    "\n",
    "    for i in range(a,100,5):\n",
    "        z = [a,b,c,d]\n",
    "        game.append(z)\n",
    "        b -= 1\n",
    "        c -= 2\n",
    "        d -= 2\n",
    "        a = i+5\n",
    "        if c<0:\n",
    "            c=0\n",
    "        if d<0:\n",
    "            d=0\n",
    "        if a+b+c+d>100:\n",
    "            if c>0:\n",
    "                c = 0\n",
    "            if d>0:\n",
    "                d = 0\n",
    "            b = 100-a\n",
    "    return game"
   ]
  },
  {
   "cell_type": "code",
   "execution_count": 148,
   "metadata": {
    "collapsed": false
   },
   "outputs": [],
   "source": [
    "# medium\n",
    "# Medium-strong schedule: while \"b\" (top 80) goes up, decrease a by 2, c by 1, and d by 2\n",
    "def medium_strong():\n",
    "    game = []\n",
    "    a = 25\n",
    "    b = 25\n",
    "    c = 25\n",
    "    d = 25\n",
    "    for i in range(b,100,5):\n",
    "        z = [a,b,c,d]\n",
    "        game.append(z)\n",
    "        b = i+5\n",
    "        c -= 1\n",
    "        d -= 2\n",
    "        a -= 2\n",
    "        if a<0:\n",
    "            a=0\n",
    "        if d<0:\n",
    "            d=0\n",
    "        if a+b+c+d>100:\n",
    "            if a>0:\n",
    "                a = 0\n",
    "            if d>0:\n",
    "                d = 0\n",
    "            c = 100-b\n",
    "    return game\n",
    "    "
   ]
  },
  {
   "cell_type": "code",
   "execution_count": 149,
   "metadata": {
    "collapsed": false
   },
   "outputs": [],
   "source": [
    "# medium\n",
    "# Medium-weak schedule: while \"c\" (top 120) goes up, decrease a by 2, b by 1, and d by 2\n",
    "def medium_weak():\n",
    "    game=[]\n",
    "    a = 25\n",
    "    b = 25\n",
    "    c = 25\n",
    "    d = 25\n",
    "    for i in range(c,100,5):\n",
    "        z = [a,b,c,d]\n",
    "        game.append(z)\n",
    "        b -= 1\n",
    "        c = i+5\n",
    "        d -= 2\n",
    "        a -= 2\n",
    "        if a<0:\n",
    "            a=0\n",
    "            break\n",
    "        if d<0:\n",
    "            d=0\n",
    "            break\n",
    "        if a+b+c+d>100:\n",
    "            if a>0:\n",
    "                a = 0\n",
    "                break\n",
    "            if d>0:\n",
    "                d = 0\n",
    "                break\n",
    "            b= 100-c\n",
    "    return game"
   ]
  },
  {
   "cell_type": "code",
   "execution_count": 150,
   "metadata": {
    "collapsed": false
   },
   "outputs": [],
   "source": [
    "def weak_schedule():\n",
    "    game = []\n",
    "    a=25\n",
    "    b=25\n",
    "    c=25\n",
    "    d=25\n",
    "    for i in range(d,100,5):\n",
    "        z = [a,b,c,d]\n",
    "        game.append(z)\n",
    "        b -= 2\n",
    "        c -= 1\n",
    "        d = i+5\n",
    "        a -= 2\n",
    "        if a<0:\n",
    "            a=0\n",
    "            break\n",
    "        if b<0:\n",
    "            b=0\n",
    "            break\n",
    "        if a+b+c+d>100:\n",
    "            if a>0:\n",
    "                a = 0\n",
    "                break\n",
    "            if b>0:\n",
    "                b = 0\n",
    "                break\n",
    "            c= 100-d\n",
    "    return game"
   ]
  },
  {
   "cell_type": "code",
   "execution_count": 151,
   "metadata": {
    "collapsed": false
   },
   "outputs": [],
   "source": [
    "def schedule_game(t4,t8,t12,t20):\n",
    "    choices = [\"Top 40\",\"Top 80\",\"Top 120\",\"Top 200\"]\n",
    "    c = np.random.choice(choices,1,p=[t4,t8,t12,t20])\n",
    "    c = c[0]\n",
    "    return c"
   ]
  },
  {
   "cell_type": "code",
   "execution_count": 152,
   "metadata": {
    "collapsed": true
   },
   "outputs": [],
   "source": [
    "def home_away(arr_sched):\n",
    "    '''\n",
    "    takes input arr_schedule, which is a string array of types of teams that and outputs an array of \"home\" or \"away\"\n",
    "    '''\n",
    "    location = []\n",
    "    for c in arr_sched:\n",
    "        if c == \"Top 40\":\n",
    "            b = np.random.choice([\"H\",\"A\"],1,p=[.2,.8])\n",
    "        elif c == \"Top 80\":\n",
    "            b = np.random.choice([\"H\",\"A\"],1,p=[.5,.5])\n",
    "        elif c == \"Top 120\":\n",
    "            b = np.random.choice([\"H\",\"A\"],1,p=[.7,.3])\n",
    "        else:\n",
    "            b = np.random.choice([\"H\",\"A\"],1,p=[.8,.2])\n",
    "        location.append(b[0])\n",
    "    return location"
   ]
  },
  {
   "cell_type": "code",
   "execution_count": 153,
   "metadata": {
    "collapsed": false
   },
   "outputs": [],
   "source": [
    "def build_schedule(w,x,y,z,matches):\n",
    "    '''\n",
    "    Takes three arguments, team_type, venue, and matches and outputs a schedule\n",
    "    team_type: string argument, the output of schedule_game()\n",
    "    venue: string argument, the output of home_away()\n",
    "    matches: integer input, number of matches being played\n",
    "    '''\n",
    "    random_select_sched = []\n",
    "    for i in range(0,matches):\n",
    "        a = schedule_game(w,x,y,z)\n",
    "        b = home_away(a)[0]\n",
    "#        print(home_away(a)[0])\n",
    "        for i,j,k, in zip(df_levers.Team,df_levers.Home_Probs,df_levers.Away_Probs):\n",
    "            if a == i:\n",
    "                if b == 'H':\n",
    "                    random_select_sched.append([i,j,'Home'])\n",
    "                if b == 'A':\n",
    "                    random_select_sched.append([i,k,'Away'])\n",
    "    \n",
    "    schedule = pd.DataFrame(data=random_select_sched,columns=[\"Team\",\"Probs\",\"Location\"])\n",
    "    return schedule\n"
   ]
  },
  {
   "cell_type": "code",
   "execution_count": 154,
   "metadata": {
    "collapsed": true
   },
   "outputs": [],
   "source": [
    "# arrays that build_auto_schedule will append final RPIs to, which then will be the basis of analysis\n",
    "w_schedule_rpi = []\n",
    "mw_schedule_rpi = []\n",
    "ms_schedule_rpi = []\n",
    "s_schedule_rpi = []"
   ]
  },
  {
   "cell_type": "code",
   "execution_count": 155,
   "metadata": {
    "collapsed": true
   },
   "outputs": [],
   "source": [
    "def build_auto_schedule(stype):\n",
    "    \"\"\"\n",
    "    takes a schedule type (st) as its only argument\n",
    "    schedule type can be \"ss\" - strong schedule, \"ms\" - medium strong, \"mw\" - medium weak, \"ws\" - weak schedule\n",
    "    \"\"\"\n",
    "    if stype.lower() in \"ws\":\n",
    "        st = weak_schedule()\n",
    "        title = \"Weak Schedule\" \n",
    "    elif stype.lower() in \"mw\":\n",
    "        st = medium_weak()\n",
    "        title = \"Medium Weak Schedule\"\n",
    "    elif stype.lower() in \"ms\":\n",
    "        st = medium_strong()    \n",
    "        title = \"Medium Strong Schedule\"\n",
    "    else:\n",
    "        st = strong_schedule()\n",
    "        title = \"Strong Schedule\"\n",
    "    s = []\n",
    "    for i in st:\n",
    "        s.append(build_schedule(float(i[0])/100,float(i[1])/100,float(i[2])/100,float(i[3])/100,10))\n",
    "    ncrp = []\n",
    "    for i in s:\n",
    "        ncrp.append(non_conf_result_probs(i.Team,i.Probs,i.Location))\n",
    "    atp = []\n",
    "    for i in ncrp:\n",
    "        atp.append(add_team_profiles(i))\n",
    "    fs = []\n",
    "    for i in atp:\n",
    "        fs.append(pd.concat([i, conf_schedule],axis=0))\n",
    "    fc = []\n",
    "    for i in fs:\n",
    "        fc.append(final_season_calculations(i))\n",
    "    \n",
    "    rpi = []\n",
    "    for i in fc:\n",
    "        rpi.append(i['RPI'])\n",
    "    \n",
    "    f_rpi = []\n",
    "    for i in rpi:\n",
    "        f_rpi.append(i[0])\n",
    "    \n",
    "    if stype.lower() in \"ws\":\n",
    "        w_schedule_rpi.append(f_rpi)\n",
    "    elif stype.lower() in \"mw\":\n",
    "        mw_schedule_rpi.append(f_rpi)\n",
    "    elif stype.lower() in \"ms\":\n",
    "        ms_schedule_rpi.append(f_rpi)\n",
    "    else:\n",
    "        s_schedule_rpi.append(f_rpi)\n",
    "    return f_rpi"
   ]
  },
  {
   "cell_type": "code",
   "execution_count": 156,
   "metadata": {
    "collapsed": false
   },
   "outputs": [],
   "source": [
    "w_rpis=[]\n",
    "mw_rpis=[]\n",
    "ms_rpis=[]\n",
    "s_rpis=[]\n",
    "\n",
    "w_schedule_rpi=[]\n",
    "mw_schedule_rpi=[]\n",
    "ms_schedule_rpi=[]\n",
    "s_schedule_rpi=[]"
   ]
  },
  {
   "cell_type": "code",
   "execution_count": 157,
   "metadata": {
    "collapsed": false
   },
   "outputs": [
    {
     "name": "stdout",
     "output_type": "stream",
     "text": [
      "How many observations do you want? Please use an integer: 19500\n",
      "1500 1300\n"
     ]
    }
   ],
   "source": [
    "x = 15\n",
    "y = 13\n",
    "# z = how many observations do you want?\n",
    "z = int(input(\"How many observations do you want? Please use an integer: \"))\n",
    "yy = round(z/x)\n",
    "xx = round(z/y)\n",
    "print(xx,yy)"
   ]
  },
  {
   "cell_type": "code",
   "execution_count": 158,
   "metadata": {
    "collapsed": false
   },
   "outputs": [],
   "source": [
    "for _ in range(0,xx):\n",
    "    build_auto_schedule(\"ws\")\n",
    "    build_auto_schedule(\"mw\")\n",
    "    print(if _/1000)"
   ]
  },
  {
   "cell_type": "code",
   "execution_count": 159,
   "metadata": {
    "collapsed": false
   },
   "outputs": [],
   "source": [
    "for _ in range(0,yy):\n",
    "    build_auto_schedule(\"ms\")\n",
    "    build_auto_schedule(\"ss\")"
   ]
  },
  {
   "cell_type": "code",
   "execution_count": 160,
   "metadata": {
    "collapsed": false
   },
   "outputs": [
    {
     "name": "stdout",
     "output_type": "stream",
     "text": [
      "1500 1500 1300 1300 \n",
      " 0 0 0 0\n"
     ]
    }
   ],
   "source": [
    "print(len(w_schedule_rpi),len(mw_schedule_rpi),len(ms_schedule_rpi),len(s_schedule_rpi),\"\\n\",len(w_rpis),len(mw_rpis),\n",
    "len(ms_rpis),len(s_rpis))"
   ]
  },
  {
   "cell_type": "code",
   "execution_count": 161,
   "metadata": {
    "collapsed": false
   },
   "outputs": [],
   "source": [
    "for a in w_schedule_rpi:\n",
    "    for j in a:\n",
    "        w_rpis.append(j)"
   ]
  },
  {
   "cell_type": "code",
   "execution_count": 162,
   "metadata": {
    "collapsed": true
   },
   "outputs": [],
   "source": [
    "for b in mw_schedule_rpi:\n",
    "    for k in b:\n",
    "        mw_rpis.append(k)"
   ]
  },
  {
   "cell_type": "code",
   "execution_count": 163,
   "metadata": {
    "collapsed": true
   },
   "outputs": [],
   "source": [
    "for c in ms_schedule_rpi:\n",
    "    for l in c:\n",
    "        ms_rpis.append(l)"
   ]
  },
  {
   "cell_type": "code",
   "execution_count": 164,
   "metadata": {
    "collapsed": true
   },
   "outputs": [],
   "source": [
    "for d in s_schedule_rpi:\n",
    "    for m in d:\n",
    "        s_rpis.append(m)"
   ]
  },
  {
   "cell_type": "code",
   "execution_count": 165,
   "metadata": {
    "collapsed": false
   },
   "outputs": [
    {
     "name": "stdout",
     "output_type": "stream",
     "text": [
      "19500 19500 19500 19500\n"
     ]
    }
   ],
   "source": [
    "print(len(w_rpis),\n",
    "len(mw_rpis),\n",
    "len(ms_rpis),\n",
    "len(s_rpis))"
   ]
  },
  {
   "cell_type": "code",
   "execution_count": 166,
   "metadata": {
    "collapsed": false
   },
   "outputs": [],
   "source": [
    "w = np.array(w_rpis)\n",
    "mw = np.array(mw_rpis)\n",
    "ms = np.array(ms_rpis)\n",
    "s = np.array(s_rpis)"
   ]
  },
  {
   "cell_type": "code",
   "execution_count": 167,
   "metadata": {
    "collapsed": false
   },
   "outputs": [],
   "source": [
    "w_list = w.tolist()\n",
    "w_list.sort()\n",
    "mw_list = mw.tolist()\n",
    "mw_list.sort()\n",
    "ms_list = ms.tolist()\n",
    "ms_list.sort()\n",
    "s_list = s.tolist()\n",
    "s_list.sort()"
   ]
  },
  {
   "cell_type": "code",
   "execution_count": 104,
   "metadata": {
    "collapsed": false
   },
   "outputs": [
    {
     "data": {
      "text/html": [
       "<div>\n",
       "<table border=\"1\" class=\"dataframe\">\n",
       "  <thead>\n",
       "    <tr style=\"text-align: right;\">\n",
       "      <th></th>\n",
       "      <th>Minimum</th>\n",
       "      <th>25%</th>\n",
       "      <th>Median</th>\n",
       "      <th>75%</th>\n",
       "      <th>Max</th>\n",
       "    </tr>\n",
       "  </thead>\n",
       "  <tbody>\n",
       "    <tr>\n",
       "      <th>Weak</th>\n",
       "      <td>0.500147</td>\n",
       "      <td>0.560077</td>\n",
       "      <td>0.571175</td>\n",
       "      <td>0.581430</td>\n",
       "      <td>0.626340</td>\n",
       "    </tr>\n",
       "    <tr>\n",
       "      <th>Medium-Weak</th>\n",
       "      <td>0.504542</td>\n",
       "      <td>0.562101</td>\n",
       "      <td>0.573540</td>\n",
       "      <td>0.584435</td>\n",
       "      <td>0.631165</td>\n",
       "    </tr>\n",
       "    <tr>\n",
       "      <th>Medium-Strong</th>\n",
       "      <td>0.503567</td>\n",
       "      <td>0.562440</td>\n",
       "      <td>0.574347</td>\n",
       "      <td>0.585517</td>\n",
       "      <td>0.631401</td>\n",
       "    </tr>\n",
       "    <tr>\n",
       "      <th>Strong</th>\n",
       "      <td>0.513079</td>\n",
       "      <td>0.565242</td>\n",
       "      <td>0.575941</td>\n",
       "      <td>0.587710</td>\n",
       "      <td>0.638390</td>\n",
       "    </tr>\n",
       "  </tbody>\n",
       "</table>\n",
       "</div>"
      ],
      "text/plain": [
       "                Minimum       25%    Median       75%       Max\n",
       "Weak           0.500147  0.560077  0.571175  0.581430  0.626340\n",
       "Medium-Weak    0.504542  0.562101  0.573540  0.584435  0.631165\n",
       "Medium-Strong  0.503567  0.562440  0.574347  0.585517  0.631401\n",
       "Strong         0.513079  0.565242  0.575941  0.587710  0.638390"
      ]
     },
     "execution_count": 104,
     "metadata": {},
     "output_type": "execute_result"
    }
   ],
   "source": [
    "intervals = [[min(w_list),w_list[round(len(w_list)*.25)],w_list[round((len(w_list)*.5))],w_list[round(len(w_list)*.75)],max(w_list)],\n",
    "[min(mw_list),mw_list[round(len(mw_list)*.25)],mw_list[round((len(mw_list)*.5))],mw_list[round(len(mw_list)*.75)],max(mw_list)],\n",
    "[min(ms_list),ms_list[round(len(ms_list)*.25)],ms_list[round((len(ms_list)*.5))],ms_list[round(len(ms_list)*.75)],max(ms_list)],\n",
    "[min(s_list),s_list[round(len(s_list)*.25)],s_list[round((len(s_list)*.5))],s_list[round(len(s_list)*.75)],max(s_list)]]\n",
    "\n",
    "pd_intervals = pd.DataFrame(intervals,index=['Weak','Medium-Weak','Medium-Strong','Strong'],columns=['Minimum','25%','Median','75%','Max'])\n",
    "pd_intervals"
   ]
  },
  {
   "cell_type": "markdown",
   "metadata": {},
   "source": [
    "# Confidence Intervals"
   ]
  },
  {
   "cell_type": "code",
   "execution_count": 105,
   "metadata": {
    "collapsed": false
   },
   "outputs": [],
   "source": [
    "# Confidence Intervals\n",
    "np_w_list = np.array(w_list)\n",
    "np_mw_list = np.array(mw_list)\n",
    "np_ms_list = np.array(ms_list)\n",
    "np_s_list = np.array(s_list)\n",
    "N = len(s_rpis)"
   ]
  },
  {
   "cell_type": "code",
   "execution_count": 106,
   "metadata": {
    "collapsed": false
   },
   "outputs": [],
   "source": [
    "conf_int_list = [[np_w_list.mean(), np_w_list.std()],\n",
    "[np_mw_list.mean(), np_mw_list.std()],\n",
    "[np_ms_list.mean(), np_ms_list.std()],\n",
    "[np_s_list.mean(), np_s_list.std()]]"
   ]
  },
  {
   "cell_type": "code",
   "execution_count": 107,
   "metadata": {
    "collapsed": false
   },
   "outputs": [],
   "source": [
    "conf_intervals = []\n",
    "for i in conf_int_list:\n",
    "    conf_intervals.append([stats.norm.interval(0.95, loc=i[0], scale=i[1]/sqrt(N))])"
   ]
  },
  {
   "cell_type": "code",
   "execution_count": 108,
   "metadata": {
    "collapsed": true
   },
   "outputs": [],
   "source": [
    "pd_intervals['Mean'] = [i[0] for i in conf_int_list]\n",
    "pd_intervals['StD'] = [i[1] for i in conf_int_list]"
   ]
  },
  {
   "cell_type": "code",
   "execution_count": 109,
   "metadata": {
    "collapsed": false
   },
   "outputs": [],
   "source": [
    "pd_intervals[\"2.5 Interval\"] = [i[0][0] for i in conf_intervals]\n",
    "pd_intervals[\"97.5 Interval\"] = [i[0][1] for i in conf_intervals]"
   ]
  },
  {
   "cell_type": "code",
   "execution_count": 110,
   "metadata": {
    "collapsed": false
   },
   "outputs": [
    {
     "data": {
      "text/html": [
       "<div>\n",
       "<table border=\"1\" class=\"dataframe\">\n",
       "  <thead>\n",
       "    <tr style=\"text-align: right;\">\n",
       "      <th></th>\n",
       "      <th>Minimum</th>\n",
       "      <th>25%</th>\n",
       "      <th>Median</th>\n",
       "      <th>75%</th>\n",
       "      <th>Max</th>\n",
       "      <th>Mean</th>\n",
       "      <th>StD</th>\n",
       "      <th>2.5 Interval</th>\n",
       "      <th>97.5 Interval</th>\n",
       "    </tr>\n",
       "  </thead>\n",
       "  <tbody>\n",
       "    <tr>\n",
       "      <th>Weak</th>\n",
       "      <td>0.500147</td>\n",
       "      <td>0.560077</td>\n",
       "      <td>0.571175</td>\n",
       "      <td>0.581430</td>\n",
       "      <td>0.626340</td>\n",
       "      <td>0.570542</td>\n",
       "      <td>0.015832</td>\n",
       "      <td>0.570339</td>\n",
       "      <td>0.570745</td>\n",
       "    </tr>\n",
       "    <tr>\n",
       "      <th>Medium-Weak</th>\n",
       "      <td>0.504542</td>\n",
       "      <td>0.562101</td>\n",
       "      <td>0.573540</td>\n",
       "      <td>0.584435</td>\n",
       "      <td>0.631165</td>\n",
       "      <td>0.573052</td>\n",
       "      <td>0.016648</td>\n",
       "      <td>0.572839</td>\n",
       "      <td>0.573266</td>\n",
       "    </tr>\n",
       "    <tr>\n",
       "      <th>Medium-Strong</th>\n",
       "      <td>0.503567</td>\n",
       "      <td>0.562440</td>\n",
       "      <td>0.574347</td>\n",
       "      <td>0.585517</td>\n",
       "      <td>0.631401</td>\n",
       "      <td>0.574020</td>\n",
       "      <td>0.016885</td>\n",
       "      <td>0.573804</td>\n",
       "      <td>0.574237</td>\n",
       "    </tr>\n",
       "    <tr>\n",
       "      <th>Strong</th>\n",
       "      <td>0.513079</td>\n",
       "      <td>0.565242</td>\n",
       "      <td>0.575941</td>\n",
       "      <td>0.587710</td>\n",
       "      <td>0.638390</td>\n",
       "      <td>0.576309</td>\n",
       "      <td>0.016878</td>\n",
       "      <td>0.576093</td>\n",
       "      <td>0.576526</td>\n",
       "    </tr>\n",
       "  </tbody>\n",
       "</table>\n",
       "</div>"
      ],
      "text/plain": [
       "                Minimum       25%    Median       75%       Max      Mean  \\\n",
       "Weak           0.500147  0.560077  0.571175  0.581430  0.626340  0.570542   \n",
       "Medium-Weak    0.504542  0.562101  0.573540  0.584435  0.631165  0.573052   \n",
       "Medium-Strong  0.503567  0.562440  0.574347  0.585517  0.631401  0.574020   \n",
       "Strong         0.513079  0.565242  0.575941  0.587710  0.638390  0.576309   \n",
       "\n",
       "                    StD  2.5 Interval  97.5 Interval  \n",
       "Weak           0.015832      0.570339       0.570745  \n",
       "Medium-Weak    0.016648      0.572839       0.573266  \n",
       "Medium-Strong  0.016885      0.573804       0.574237  \n",
       "Strong         0.016878      0.576093       0.576526  "
      ]
     },
     "execution_count": 110,
     "metadata": {},
     "output_type": "execute_result"
    }
   ],
   "source": [
    "pd_intervals"
   ]
  },
  {
   "cell_type": "code",
   "execution_count": 111,
   "metadata": {
    "collapsed": false
   },
   "outputs": [
    {
     "data": {
      "text/plain": [
       "<matplotlib.lines.Line2D at 0x1108b36d8>"
      ]
     },
     "execution_count": 111,
     "metadata": {},
     "output_type": "execute_result"
    },
    {
     "data": {
      "image/png": "[encoded data removed]",
      "text/plain": [
       "<matplotlib.figure.Figure at 0x1108b3c88>"
      ]
     },
     "metadata": {},
     "output_type": "display_data"
    }
   ],
   "source": [
    "sns.boxplot(w_list)\n",
    "plt.xlabel(\"RPI\")\n",
    "plt.title(\"Weak RPI Schedule\")\n",
    "plt.axvline(.585, color='r', linestyle='dashed')"
   ]
  },
  {
   "cell_type": "code",
   "execution_count": 112,
   "metadata": {
    "collapsed": false
   },
   "outputs": [
    {
     "data": {
      "text/plain": [
       "<matplotlib.lines.Line2D at 0x1108b3470>"
      ]
     },
     "execution_count": 112,
     "metadata": {},
     "output_type": "execute_result"
    },
    {
     "data": {
      "image/png": "[encoded data removed]",
      "text/plain": [
       "<matplotlib.figure.Figure at 0x1108b3cf8>"
      ]
     },
     "metadata": {},
     "output_type": "display_data"
    }
   ],
   "source": [
    "sns.boxplot(mw_list)\n",
    "plt.xlabel(\"RPI\")\n",
    "plt.title(\"Medium Weak RPI Schedule\")\n",
    "plt.axvline(.585, color='r', linestyle='dashed')"
   ]
  },
  {
   "cell_type": "code",
   "execution_count": 113,
   "metadata": {
    "collapsed": false
   },
   "outputs": [
    {
     "data": {
      "text/plain": [
       "<matplotlib.lines.Line2D at 0x110edd9e8>"
      ]
     },
     "execution_count": 113,
     "metadata": {},
     "output_type": "execute_result"
    },
    {
     "data": {
      "image/png": "[encoded data removed]",
      "text/plain": [
       "<matplotlib.figure.Figure at 0x110edd7f0>"
      ]
     },
     "metadata": {},
     "output_type": "display_data"
    }
   ],
   "source": [
    "sns.boxplot(ms_list)\n",
    "plt.xlabel(\"RPI\")\n",
    "plt.title(\"Medium Strong RPI Schedule\")\n",
    "plt.axvline(.585, color='r', linestyle='dashed')"
   ]
  },
  {
   "cell_type": "code",
   "execution_count": 114,
   "metadata": {
    "collapsed": false
   },
   "outputs": [
    {
     "data": {
      "text/plain": [
       "<matplotlib.lines.Line2D at 0x111018438>"
      ]
     },
     "execution_count": 114,
     "metadata": {},
     "output_type": "execute_result"
    },
    {
     "data": {
      "image/png": "[encoded data removed]",
      "text/plain": [
       "<matplotlib.figure.Figure at 0x111018240>"
      ]
     },
     "metadata": {},
     "output_type": "display_data"
    }
   ],
   "source": [
    "sns.boxplot(s_list)\n",
    "plt.xlabel(\"RPI\")\n",
    "plt.title(\"Strong RPI Schedule\")\n",
    "plt.axvline(.585, color='r', linestyle='dashed')"
   ]
  },
  {
   "cell_type": "code",
   "execution_count": 1,
   "metadata": {
    "collapsed": false
   },
   "outputs": [],
   "source": [
    "#df_ranked[((df_ranked['Year']==2016) & (df_ranked['RPI RANK'] >41) & (df_ranked['RPI RANK']<=81) &( df_ranked['Team']!='Cincinnati') & (df_ranked['Tournament']==0))]['Teams']"
   ]
  },
  {
   "cell_type": "code",
   "execution_count": null,
   "metadata": {
    "collapsed": true
   },
   "outputs": [],
   "source": []
  }
 ],
 "metadata": {
  "anaconda-cloud": {},
  "kernelspec": {
   "display_name": "Python [conda root]",
   "language": "python",
   "name": "conda-root-py"
  },
  "language_info": {
   "codemirror_mode": {
    "name": "ipython",
    "version": 3
   },
   "file_extension": ".py",
   "mimetype": "text/x-python",
   "name": "python",
   "nbconvert_exporter": "python",
   "pygments_lexer": "ipython3",
   "version": "3.5.2"
  }
 },
 "nbformat": 4,
 "nbformat_minor": 2
}
