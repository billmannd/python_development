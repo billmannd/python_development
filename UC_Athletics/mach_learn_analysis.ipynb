{
 "cells": [
  {
   "cell_type": "markdown",
   "metadata": {},
   "source": [
    "Looked at a few machine learning techniques to determine significant variables for predicting RPI. \n",
    "I was playing with ML techniques in general, this might be a train of thought you want to continue. - DB"
   ]
  },
  {
   "cell_type": "code",
   "execution_count": 1,
   "metadata": {
    "collapsed": false
   },
   "outputs": [
    {
     "name": "stderr",
     "output_type": "stream",
     "text": [
      "/Users/danielbillmann/anaconda/envs/intro_to_ds/lib/python3.5/site-packages/IPython/html.py:14: ShimWarning: The `IPython.html` package has been deprecated. You should import from `notebook` instead. `IPython.html.widgets` has moved to `ipywidgets`.\n",
      "  \"`IPython.html.widgets` has moved to `ipywidgets`.\", ShimWarning)\n"
     ]
    }
   ],
   "source": [
    "import numpy as np\n",
    "import pandas as pd\n",
    "import matplotlib.pyplot as plt\n",
    "import seaborn as sns\n",
    "%matplotlib inline"
   ]
  },
  {
   "cell_type": "code",
   "execution_count": 2,
   "metadata": {
    "collapsed": true
   },
   "outputs": [],
   "source": [
    "df = pd.read_excel('auto_at_large_conferences.xlsx')"
   ]
  },
  {
   "cell_type": "code",
   "execution_count": 3,
   "metadata": {
    "collapsed": false
   },
   "outputs": [
    {
     "data": {
      "text/html": [
       "<div>\n",
       "<table border=\"1\" class=\"dataframe\">\n",
       "  <thead>\n",
       "    <tr style=\"text-align: right;\">\n",
       "      <th></th>\n",
       "      <th>Team</th>\n",
       "      <th>Conference_ID</th>\n",
       "      <th>Conference</th>\n",
       "      <th>Non D1 W</th>\n",
       "      <th>Non D1 D</th>\n",
       "      <th>Non D1 L</th>\n",
       "      <th>W</th>\n",
       "      <th>L</th>\n",
       "      <th>D</th>\n",
       "      <th>WIN %</th>\n",
       "      <th>SOS</th>\n",
       "      <th>Opp SOS</th>\n",
       "      <th>Road W</th>\n",
       "      <th>Road RPI</th>\n",
       "      <th>RPI</th>\n",
       "      <th>ADJ RPI</th>\n",
       "      <th>Tournament</th>\n",
       "      <th>Year</th>\n",
       "    </tr>\n",
       "  </thead>\n",
       "  <tbody>\n",
       "    <tr>\n",
       "      <th>0</th>\n",
       "      <td>West Virginia</td>\n",
       "      <td>6</td>\n",
       "      <td>Big 12</td>\n",
       "      <td>0</td>\n",
       "      <td>0</td>\n",
       "      <td>0</td>\n",
       "      <td>23</td>\n",
       "      <td>2</td>\n",
       "      <td>2</td>\n",
       "      <td>0.8889</td>\n",
       "      <td>0.6457</td>\n",
       "      <td>0.5930</td>\n",
       "      <td>0.7790</td>\n",
       "      <td>0.7093</td>\n",
       "      <td>0.6933</td>\n",
       "      <td>0.7115</td>\n",
       "      <td>2</td>\n",
       "      <td>2016</td>\n",
       "    </tr>\n",
       "    <tr>\n",
       "      <th>1</th>\n",
       "      <td>Stanford</td>\n",
       "      <td>21</td>\n",
       "      <td>Pac-12</td>\n",
       "      <td>0</td>\n",
       "      <td>0</td>\n",
       "      <td>0</td>\n",
       "      <td>18</td>\n",
       "      <td>2</td>\n",
       "      <td>1</td>\n",
       "      <td>0.8810</td>\n",
       "      <td>0.6281</td>\n",
       "      <td>0.5871</td>\n",
       "      <td>0.7503</td>\n",
       "      <td>0.6953</td>\n",
       "      <td>0.6811</td>\n",
       "      <td>0.6956</td>\n",
       "      <td>2</td>\n",
       "      <td>2016</td>\n",
       "    </tr>\n",
       "    <tr>\n",
       "      <th>2</th>\n",
       "      <td>Southern California</td>\n",
       "      <td>21</td>\n",
       "      <td>Pac-12</td>\n",
       "      <td>0</td>\n",
       "      <td>0</td>\n",
       "      <td>0</td>\n",
       "      <td>19</td>\n",
       "      <td>4</td>\n",
       "      <td>2</td>\n",
       "      <td>0.8000</td>\n",
       "      <td>0.6523</td>\n",
       "      <td>0.5950</td>\n",
       "      <td>0.6632</td>\n",
       "      <td>0.6789</td>\n",
       "      <td>0.6749</td>\n",
       "      <td>0.6933</td>\n",
       "      <td>1</td>\n",
       "      <td>2016</td>\n",
       "    </tr>\n",
       "    <tr>\n",
       "      <th>3</th>\n",
       "      <td>South Carolina</td>\n",
       "      <td>23</td>\n",
       "      <td>SEC</td>\n",
       "      <td>0</td>\n",
       "      <td>0</td>\n",
       "      <td>0</td>\n",
       "      <td>21</td>\n",
       "      <td>2</td>\n",
       "      <td>1</td>\n",
       "      <td>0.8958</td>\n",
       "      <td>0.6011</td>\n",
       "      <td>0.5866</td>\n",
       "      <td>0.7543</td>\n",
       "      <td>0.6872</td>\n",
       "      <td>0.6712</td>\n",
       "      <td>0.6833</td>\n",
       "      <td>1</td>\n",
       "      <td>2016</td>\n",
       "    </tr>\n",
       "    <tr>\n",
       "      <th>4</th>\n",
       "      <td>North Carolina</td>\n",
       "      <td>4</td>\n",
       "      <td>Atlantic Coast</td>\n",
       "      <td>0</td>\n",
       "      <td>0</td>\n",
       "      <td>0</td>\n",
       "      <td>17</td>\n",
       "      <td>4</td>\n",
       "      <td>4</td>\n",
       "      <td>0.7600</td>\n",
       "      <td>0.6626</td>\n",
       "      <td>0.5991</td>\n",
       "      <td>0.6643</td>\n",
       "      <td>0.6744</td>\n",
       "      <td>0.6711</td>\n",
       "      <td>0.6800</td>\n",
       "      <td>1</td>\n",
       "      <td>2016</td>\n",
       "    </tr>\n",
       "    <tr>\n",
       "      <th>5</th>\n",
       "      <td>Georgetown</td>\n",
       "      <td>7</td>\n",
       "      <td>Big East</td>\n",
       "      <td>0</td>\n",
       "      <td>0</td>\n",
       "      <td>0</td>\n",
       "      <td>20</td>\n",
       "      <td>3</td>\n",
       "      <td>3</td>\n",
       "      <td>0.8269</td>\n",
       "      <td>0.6085</td>\n",
       "      <td>0.5670</td>\n",
       "      <td>0.7865</td>\n",
       "      <td>0.6726</td>\n",
       "      <td>0.6528</td>\n",
       "      <td>0.6688</td>\n",
       "      <td>2</td>\n",
       "      <td>2016</td>\n",
       "    </tr>\n",
       "    <tr>\n",
       "      <th>6</th>\n",
       "      <td>Florida</td>\n",
       "      <td>23</td>\n",
       "      <td>SEC</td>\n",
       "      <td>0</td>\n",
       "      <td>0</td>\n",
       "      <td>0</td>\n",
       "      <td>17</td>\n",
       "      <td>5</td>\n",
       "      <td>1</td>\n",
       "      <td>0.7609</td>\n",
       "      <td>0.6333</td>\n",
       "      <td>0.5852</td>\n",
       "      <td>0.6572</td>\n",
       "      <td>0.6580</td>\n",
       "      <td>0.6532</td>\n",
       "      <td>0.6645</td>\n",
       "      <td>2</td>\n",
       "      <td>2016</td>\n",
       "    </tr>\n",
       "    <tr>\n",
       "      <th>7</th>\n",
       "      <td>UCLA</td>\n",
       "      <td>21</td>\n",
       "      <td>Pac-12</td>\n",
       "      <td>0</td>\n",
       "      <td>0</td>\n",
       "      <td>0</td>\n",
       "      <td>15</td>\n",
       "      <td>5</td>\n",
       "      <td>2</td>\n",
       "      <td>0.7273</td>\n",
       "      <td>0.6419</td>\n",
       "      <td>0.5853</td>\n",
       "      <td>0.7006</td>\n",
       "      <td>0.6578</td>\n",
       "      <td>0.6491</td>\n",
       "      <td>0.6626</td>\n",
       "      <td>1</td>\n",
       "      <td>2016</td>\n",
       "    </tr>\n",
       "    <tr>\n",
       "      <th>8</th>\n",
       "      <td>Auburn</td>\n",
       "      <td>23</td>\n",
       "      <td>SEC</td>\n",
       "      <td>0</td>\n",
       "      <td>0</td>\n",
       "      <td>0</td>\n",
       "      <td>17</td>\n",
       "      <td>7</td>\n",
       "      <td>0</td>\n",
       "      <td>0.7083</td>\n",
       "      <td>0.6581</td>\n",
       "      <td>0.5813</td>\n",
       "      <td>0.7115</td>\n",
       "      <td>0.6607</td>\n",
       "      <td>0.6515</td>\n",
       "      <td>0.6615</td>\n",
       "      <td>1</td>\n",
       "      <td>2016</td>\n",
       "    </tr>\n",
       "    <tr>\n",
       "      <th>9</th>\n",
       "      <td>BYU</td>\n",
       "      <td>31</td>\n",
       "      <td>WAC</td>\n",
       "      <td>0</td>\n",
       "      <td>0</td>\n",
       "      <td>0</td>\n",
       "      <td>18</td>\n",
       "      <td>3</td>\n",
       "      <td>1</td>\n",
       "      <td>0.8409</td>\n",
       "      <td>0.5820</td>\n",
       "      <td>0.5599</td>\n",
       "      <td>0.6996</td>\n",
       "      <td>0.6541</td>\n",
       "      <td>0.6412</td>\n",
       "      <td>0.6586</td>\n",
       "      <td>2</td>\n",
       "      <td>2016</td>\n",
       "    </tr>\n",
       "  </tbody>\n",
       "</table>\n",
       "</div>"
      ],
      "text/plain": [
       "                  Team  Conference_ID      Conference  Non D1 W  Non D1 D  \\\n",
       "0        West Virginia              6          Big 12         0         0   \n",
       "1             Stanford             21          Pac-12         0         0   \n",
       "2  Southern California             21          Pac-12         0         0   \n",
       "3       South Carolina             23             SEC         0         0   \n",
       "4       North Carolina              4  Atlantic Coast         0         0   \n",
       "5           Georgetown              7        Big East         0         0   \n",
       "6              Florida             23             SEC         0         0   \n",
       "7                 UCLA             21          Pac-12         0         0   \n",
       "8               Auburn             23             SEC         0         0   \n",
       "9                  BYU             31             WAC         0         0   \n",
       "\n",
       "   Non D1 L   W  L  D   WIN %     SOS  Opp SOS  Road W  Road RPI     RPI  \\\n",
       "0         0  23  2  2  0.8889  0.6457   0.5930  0.7790    0.7093  0.6933   \n",
       "1         0  18  2  1  0.8810  0.6281   0.5871  0.7503    0.6953  0.6811   \n",
       "2         0  19  4  2  0.8000  0.6523   0.5950  0.6632    0.6789  0.6749   \n",
       "3         0  21  2  1  0.8958  0.6011   0.5866  0.7543    0.6872  0.6712   \n",
       "4         0  17  4  4  0.7600  0.6626   0.5991  0.6643    0.6744  0.6711   \n",
       "5         0  20  3  3  0.8269  0.6085   0.5670  0.7865    0.6726  0.6528   \n",
       "6         0  17  5  1  0.7609  0.6333   0.5852  0.6572    0.6580  0.6532   \n",
       "7         0  15  5  2  0.7273  0.6419   0.5853  0.7006    0.6578  0.6491   \n",
       "8         0  17  7  0  0.7083  0.6581   0.5813  0.7115    0.6607  0.6515   \n",
       "9         0  18  3  1  0.8409  0.5820   0.5599  0.6996    0.6541  0.6412   \n",
       "\n",
       "   ADJ RPI  Tournament  Year  \n",
       "0   0.7115           2  2016  \n",
       "1   0.6956           2  2016  \n",
       "2   0.6933           1  2016  \n",
       "3   0.6833           1  2016  \n",
       "4   0.6800           1  2016  \n",
       "5   0.6688           2  2016  \n",
       "6   0.6645           2  2016  \n",
       "7   0.6626           1  2016  \n",
       "8   0.6615           1  2016  \n",
       "9   0.6586           2  2016  "
      ]
     },
     "execution_count": 3,
     "metadata": {},
     "output_type": "execute_result"
    }
   ],
   "source": [
    "df.head(10)"
   ]
  },
  {
   "cell_type": "code",
   "execution_count": 4,
   "metadata": {
    "collapsed": false
   },
   "outputs": [
    {
     "name": "stdout",
     "output_type": "stream",
     "text": [
      "<class 'pandas.core.frame.DataFrame'>\n",
      "RangeIndex: 572 entries, 0 to 571\n",
      "Data columns (total 18 columns):\n",
      "Team             572 non-null object\n",
      "Conference_ID    572 non-null int64\n",
      "Conference       572 non-null object\n",
      "Non D1 W         572 non-null int64\n",
      "Non D1 D         572 non-null int64\n",
      "Non D1 L         572 non-null int64\n",
      "W                572 non-null int64\n",
      "L                572 non-null int64\n",
      "D                572 non-null int64\n",
      "WIN %            572 non-null float64\n",
      "SOS              572 non-null float64\n",
      "Opp SOS          572 non-null float64\n",
      "Road W           572 non-null float64\n",
      "Road RPI         572 non-null float64\n",
      "RPI              572 non-null float64\n",
      "ADJ RPI          572 non-null float64\n",
      "Tournament       572 non-null int64\n",
      "Year             572 non-null int64\n",
      "dtypes: float64(7), int64(9), object(2)\n",
      "memory usage: 80.5+ KB\n"
     ]
    }
   ],
   "source": [
    "df.info()"
   ]
  },
  {
   "cell_type": "code",
   "execution_count": 5,
   "metadata": {
    "collapsed": false
   },
   "outputs": [],
   "source": [
    "#df.head()\n",
    "#df.info()\n",
    "#df.describe()"
   ]
  },
  {
   "cell_type": "code",
   "execution_count": 6,
   "metadata": {
    "collapsed": false
   },
   "outputs": [
    {
     "data": {
      "text/plain": [
       "<matplotlib.axes._subplots.AxesSubplot at 0x10ea96320>"
      ]
     },
     "execution_count": 6,
     "metadata": {},
     "output_type": "execute_result"
    },
    {
     "data": {
      "image/png": "[encoded data removed]",
      "text/plain": [
       "<matplotlib.figure.Figure at 0x10eaaef60>"
      ]
     },
     "metadata": {},
     "output_type": "display_data"
    }
   ],
   "source": [
    "correlations = df.corr()\n",
    "sns.heatmap(correlations, cmap='Greens')"
   ]
  },
  {
   "cell_type": "markdown",
   "metadata": {},
   "source": [
    "# American Conference"
   ]
  },
  {
   "cell_type": "code",
   "execution_count": 7,
   "metadata": {
    "collapsed": false
   },
   "outputs": [],
   "source": [
    "american = df[(df['Conference_ID']==1)]"
   ]
  },
  {
   "cell_type": "markdown",
   "metadata": {},
   "source": [
    "# UC 2017 Data"
   ]
  },
  {
   "cell_type": "code",
   "execution_count": 28,
   "metadata": {
    "collapsed": false
   },
   "outputs": [],
   "source": [
    "w = 15\n",
    "d = 4\n",
    "l = 0\n",
    "win_per = (w + (.5* d))/(w + d + l)\n",
    "opp_sos = american['Opp SOS'].mean()\n",
    "road_w = win_per - .07\n",
    "road_rpi = (.25 * road_w) + (.5 * sos) + (.25 * opp_sos)\n",
    "rpi = (win_per* .25)+ (.5 * sos) + (.25 * opp_sos)\n",
    "adj_rpi = .01 + rpi"
   ]
  },
  {
   "cell_type": "code",
   "execution_count": 29,
   "metadata": {
    "collapsed": true
   },
   "outputs": [],
   "source": [
    "teams = ['Buffalo', 'Boston', 'Miami', 'Pittsburgh', \n",
    " 'Northwestern', 'Purdue', 'Oakland', \n",
    " 'Northern Kentucky', 'Xavier', 'Morehead St.']\n",
    "avg = []\n",
    "for team in teams:\n",
    "    mean_avg = df[(df['Team']==str(team))]['WIN %'].mean()\n",
    "    avg.append(mean_avg)"
   ]
  },
  {
   "cell_type": "code",
   "execution_count": 30,
   "metadata": {
    "collapsed": true
   },
   "outputs": [],
   "source": [
    "Boston = (0.452400 + 0.659172) /2\n",
    "avg[1] = Boston"
   ]
  },
  {
   "cell_type": "code",
   "execution_count": 31,
   "metadata": {
    "collapsed": false
   },
   "outputs": [],
   "source": [
    "avg_win = 0\n",
    "for i in avg:\n",
    "    avg_win +=i\n",
    "avg_win=avg_win/len(avg)\n",
    "sos = (avg_win + 0.5530)/2"
   ]
  },
  {
   "cell_type": "code",
   "execution_count": 32,
   "metadata": {
    "collapsed": false
   },
   "outputs": [
    {
     "data": {
      "text/html": [
       "<div>\n",
       "<table border=\"1\" class=\"dataframe\">\n",
       "  <thead>\n",
       "    <tr style=\"text-align: right;\">\n",
       "      <th></th>\n",
       "      <th>Team</th>\n",
       "      <th>Conference</th>\n",
       "      <th>W</th>\n",
       "      <th>L</th>\n",
       "      <th>D</th>\n",
       "      <th>WIN %</th>\n",
       "      <th>SOS</th>\n",
       "      <th>Opp SOS</th>\n",
       "      <th>Road W</th>\n",
       "      <th>Road RPI</th>\n",
       "      <th>RPI</th>\n",
       "      <th>ADJ RPI</th>\n",
       "      <th>Year</th>\n",
       "    </tr>\n",
       "  </thead>\n",
       "  <tbody>\n",
       "    <tr>\n",
       "      <th>0</th>\n",
       "      <td>Cincinnati</td>\n",
       "      <td>AAC</td>\n",
       "      <td>15</td>\n",
       "      <td>0</td>\n",
       "      <td>4</td>\n",
       "      <td>0.894737</td>\n",
       "      <td>0.540973</td>\n",
       "      <td>0.537021</td>\n",
       "      <td>0.824737</td>\n",
       "      <td>0.610926</td>\n",
       "      <td>0.628426</td>\n",
       "      <td>0.638426</td>\n",
       "      <td>2017</td>\n",
       "    </tr>\n",
       "  </tbody>\n",
       "</table>\n",
       "</div>"
      ],
      "text/plain": [
       "         Team Conference   W  L  D     WIN %       SOS   Opp SOS    Road W  \\\n",
       "0  Cincinnati        AAC  15  0  4  0.894737  0.540973  0.537021  0.824737   \n",
       "\n",
       "   Road RPI       RPI   ADJ RPI  Year  \n",
       "0  0.610926  0.628426  0.638426  2017  "
      ]
     },
     "execution_count": 32,
     "metadata": {},
     "output_type": "execute_result"
    }
   ],
   "source": [
    "# 2017 Projection for UC Women's soccer, assumed .07 drop for road win & manually adjusted + .01 \n",
    "rpi_2017_proj = ( ( ((12+(.5*3))/(12+3+4))*.25) + ((sos)*.5) + ((american['Opp SOS'].mean())*.25) )\n",
    "rpi_2017_adj_proj = rpi_2017_proj+.01\n",
    "uc_2017_data = [\n",
    "['Cincinnati','AAC',w,l,d,win_per,sos,opp_sos,road_w,road_rpi,rpi,adj_rpi,2017\n",
    "]]\n",
    "UC_2017 = pd.DataFrame(data = uc_2017_data,\n",
    "                       columns=['Team','Conference','W', 'L', 'D', 'WIN %',\n",
    "                                'SOS', 'Opp SOS', 'Road W','Road RPI', 'RPI',\n",
    "                                'ADJ RPI', 'Year'])\n",
    "UC_2017"
   ]
  },
  {
   "cell_type": "markdown",
   "metadata": {},
   "source": [
    "# Logistic Regression on Tournament entry"
   ]
  },
  {
   "cell_type": "code",
   "execution_count": 33,
   "metadata": {
    "collapsed": false
   },
   "outputs": [
    {
     "data": {
      "text/html": [
       "<div>\n",
       "<table border=\"1\" class=\"dataframe\">\n",
       "  <thead>\n",
       "    <tr style=\"text-align: right;\">\n",
       "      <th></th>\n",
       "      <th>Conference_ID</th>\n",
       "      <th>Non D1 W</th>\n",
       "      <th>Non D1 D</th>\n",
       "      <th>Non D1 L</th>\n",
       "      <th>W</th>\n",
       "      <th>L</th>\n",
       "      <th>D</th>\n",
       "      <th>WIN %</th>\n",
       "      <th>SOS</th>\n",
       "      <th>Opp SOS</th>\n",
       "      <th>Road W</th>\n",
       "      <th>Road RPI</th>\n",
       "      <th>RPI</th>\n",
       "      <th>ADJ RPI</th>\n",
       "      <th>Tournament</th>\n",
       "      <th>Year</th>\n",
       "    </tr>\n",
       "  </thead>\n",
       "  <tbody>\n",
       "    <tr>\n",
       "      <th>2</th>\n",
       "      <td>21</td>\n",
       "      <td>0</td>\n",
       "      <td>0</td>\n",
       "      <td>0</td>\n",
       "      <td>19</td>\n",
       "      <td>4</td>\n",
       "      <td>2</td>\n",
       "      <td>0.8000</td>\n",
       "      <td>0.6523</td>\n",
       "      <td>0.5950</td>\n",
       "      <td>0.6632</td>\n",
       "      <td>0.6789</td>\n",
       "      <td>0.6749</td>\n",
       "      <td>0.6933</td>\n",
       "      <td>1</td>\n",
       "      <td>2016</td>\n",
       "    </tr>\n",
       "    <tr>\n",
       "      <th>3</th>\n",
       "      <td>23</td>\n",
       "      <td>0</td>\n",
       "      <td>0</td>\n",
       "      <td>0</td>\n",
       "      <td>21</td>\n",
       "      <td>2</td>\n",
       "      <td>1</td>\n",
       "      <td>0.8958</td>\n",
       "      <td>0.6011</td>\n",
       "      <td>0.5866</td>\n",
       "      <td>0.7543</td>\n",
       "      <td>0.6872</td>\n",
       "      <td>0.6712</td>\n",
       "      <td>0.6833</td>\n",
       "      <td>1</td>\n",
       "      <td>2016</td>\n",
       "    </tr>\n",
       "    <tr>\n",
       "      <th>4</th>\n",
       "      <td>4</td>\n",
       "      <td>0</td>\n",
       "      <td>0</td>\n",
       "      <td>0</td>\n",
       "      <td>17</td>\n",
       "      <td>4</td>\n",
       "      <td>4</td>\n",
       "      <td>0.7600</td>\n",
       "      <td>0.6626</td>\n",
       "      <td>0.5991</td>\n",
       "      <td>0.6643</td>\n",
       "      <td>0.6744</td>\n",
       "      <td>0.6711</td>\n",
       "      <td>0.6800</td>\n",
       "      <td>1</td>\n",
       "      <td>2016</td>\n",
       "    </tr>\n",
       "    <tr>\n",
       "      <th>7</th>\n",
       "      <td>21</td>\n",
       "      <td>0</td>\n",
       "      <td>0</td>\n",
       "      <td>0</td>\n",
       "      <td>15</td>\n",
       "      <td>5</td>\n",
       "      <td>2</td>\n",
       "      <td>0.7273</td>\n",
       "      <td>0.6419</td>\n",
       "      <td>0.5853</td>\n",
       "      <td>0.7006</td>\n",
       "      <td>0.6578</td>\n",
       "      <td>0.6491</td>\n",
       "      <td>0.6626</td>\n",
       "      <td>1</td>\n",
       "      <td>2016</td>\n",
       "    </tr>\n",
       "    <tr>\n",
       "      <th>8</th>\n",
       "      <td>23</td>\n",
       "      <td>0</td>\n",
       "      <td>0</td>\n",
       "      <td>0</td>\n",
       "      <td>17</td>\n",
       "      <td>7</td>\n",
       "      <td>0</td>\n",
       "      <td>0.7083</td>\n",
       "      <td>0.6581</td>\n",
       "      <td>0.5813</td>\n",
       "      <td>0.7115</td>\n",
       "      <td>0.6607</td>\n",
       "      <td>0.6515</td>\n",
       "      <td>0.6615</td>\n",
       "      <td>1</td>\n",
       "      <td>2016</td>\n",
       "    </tr>\n",
       "  </tbody>\n",
       "</table>\n",
       "</div>"
      ],
      "text/plain": [
       "   Conference_ID  Non D1 W  Non D1 D  Non D1 L   W  L  D   WIN %     SOS  \\\n",
       "2             21         0         0         0  19  4  2  0.8000  0.6523   \n",
       "3             23         0         0         0  21  2  1  0.8958  0.6011   \n",
       "4              4         0         0         0  17  4  4  0.7600  0.6626   \n",
       "7             21         0         0         0  15  5  2  0.7273  0.6419   \n",
       "8             23         0         0         0  17  7  0  0.7083  0.6581   \n",
       "\n",
       "   Opp SOS  Road W  Road RPI     RPI  ADJ RPI  Tournament  Year  \n",
       "2   0.5950  0.6632    0.6789  0.6749   0.6933           1  2016  \n",
       "3   0.5866  0.7543    0.6872  0.6712   0.6833           1  2016  \n",
       "4   0.5991  0.6643    0.6744  0.6711   0.6800           1  2016  \n",
       "7   0.5853  0.7006    0.6578  0.6491   0.6626           1  2016  \n",
       "8   0.5813  0.7115    0.6607  0.6515   0.6615           1  2016  "
      ]
     },
     "execution_count": 33,
     "metadata": {},
     "output_type": "execute_result"
    }
   ],
   "source": [
    "df_at_large = df[df.Tournament !=2]\n",
    "df_at_large = df_at_large.drop('Team',axis=1)\n",
    "df_at_large = df_at_large.drop('Conference', axis=1)\n",
    "df_at_large.head()"
   ]
  },
  {
   "cell_type": "code",
   "execution_count": 34,
   "metadata": {
    "collapsed": false
   },
   "outputs": [],
   "source": [
    "from sklearn.model_selection import train_test_split"
   ]
  },
  {
   "cell_type": "code",
   "execution_count": 35,
   "metadata": {
    "collapsed": false
   },
   "outputs": [],
   "source": [
    "#df1 = df.drop('Team', axis=1)\n",
    "#df1 = df_.drop('Conference', axis=1)\n",
    "X = df_at_large[['W','D','L', 'WIN %', 'SOS', 'Opp SOS', 'Road W', 'Road RPI', 'RPI', 'ADJ RPI']]\n",
    "y = df_at_large['Tournament']"
   ]
  },
  {
   "cell_type": "code",
   "execution_count": 36,
   "metadata": {
    "collapsed": true
   },
   "outputs": [],
   "source": [
    "X_train, X_test, y_train, y_test = train_test_split(X,y,test_size=.33, random_state=42)"
   ]
  },
  {
   "cell_type": "code",
   "execution_count": null,
   "metadata": {
    "collapsed": false
   },
   "outputs": [],
   "source": []
  },
  {
   "cell_type": "code",
   "execution_count": null,
   "metadata": {
    "collapsed": true
   },
   "outputs": [],
   "source": []
  },
  {
   "cell_type": "code",
   "execution_count": 37,
   "metadata": {
    "collapsed": true
   },
   "outputs": [],
   "source": [
    "from sklearn.linear_model import LogisticRegression"
   ]
  },
  {
   "cell_type": "code",
   "execution_count": 38,
   "metadata": {
    "collapsed": false
   },
   "outputs": [],
   "source": [
    "log = LogisticRegression()"
   ]
  },
  {
   "cell_type": "code",
   "execution_count": 39,
   "metadata": {
    "collapsed": false
   },
   "outputs": [],
   "source": [
    "log_fit = log.fit(X_train, y_train)"
   ]
  },
  {
   "cell_type": "code",
   "execution_count": 40,
   "metadata": {
    "collapsed": false
   },
   "outputs": [],
   "source": [
    "predictions = log.predict(X_test)"
   ]
  },
  {
   "cell_type": "code",
   "execution_count": 41,
   "metadata": {
    "collapsed": false
   },
   "outputs": [],
   "source": [
    "from sklearn.metrics import classification_report, confusion_matrix"
   ]
  },
  {
   "cell_type": "code",
   "execution_count": 42,
   "metadata": {
    "collapsed": false
   },
   "outputs": [
    {
     "name": "stdout",
     "output_type": "stream",
     "text": [
      "             precision    recall  f1-score   support\n",
      "\n",
      "          0       0.97      0.86      0.91       159\n",
      "          1       0.23      0.64      0.34        11\n",
      "\n",
      "avg / total       0.92      0.84      0.87       170\n",
      "\n"
     ]
    }
   ],
   "source": [
    "print(classification_report(predictions, y_test))"
   ]
  },
  {
   "cell_type": "code",
   "execution_count": 43,
   "metadata": {
    "collapsed": false
   },
   "outputs": [],
   "source": [
    "UC_Test_2017 = UC_2017[['W', 'L', 'D', 'WIN %', 'SOS', 'Opp SOS', 'Road W', 'Road RPI', 'RPI', 'ADJ RPI']]"
   ]
  },
  {
   "cell_type": "code",
   "execution_count": 44,
   "metadata": {
    "collapsed": false
   },
   "outputs": [
    {
     "data": {
      "text/html": [
       "<div>\n",
       "<table border=\"1\" class=\"dataframe\">\n",
       "  <thead>\n",
       "    <tr style=\"text-align: right;\">\n",
       "      <th></th>\n",
       "      <th>W</th>\n",
       "      <th>L</th>\n",
       "      <th>D</th>\n",
       "      <th>WIN %</th>\n",
       "      <th>SOS</th>\n",
       "      <th>Opp SOS</th>\n",
       "      <th>Road W</th>\n",
       "      <th>Road RPI</th>\n",
       "      <th>RPI</th>\n",
       "      <th>ADJ RPI</th>\n",
       "    </tr>\n",
       "  </thead>\n",
       "  <tbody>\n",
       "    <tr>\n",
       "      <th>0</th>\n",
       "      <td>15</td>\n",
       "      <td>0</td>\n",
       "      <td>4</td>\n",
       "      <td>0.894737</td>\n",
       "      <td>0.540973</td>\n",
       "      <td>0.537021</td>\n",
       "      <td>0.824737</td>\n",
       "      <td>0.610926</td>\n",
       "      <td>0.628426</td>\n",
       "      <td>0.638426</td>\n",
       "    </tr>\n",
       "  </tbody>\n",
       "</table>\n",
       "</div>"
      ],
      "text/plain": [
       "    W  L  D     WIN %       SOS   Opp SOS    Road W  Road RPI       RPI  \\\n",
       "0  15  0  4  0.894737  0.540973  0.537021  0.824737  0.610926  0.628426   \n",
       "\n",
       "    ADJ RPI  \n",
       "0  0.638426  "
      ]
     },
     "execution_count": 44,
     "metadata": {},
     "output_type": "execute_result"
    }
   ],
   "source": [
    "UC_Test_2017"
   ]
  },
  {
   "cell_type": "markdown",
   "metadata": {},
   "source": [
    "# Final Results"
   ]
  },
  {
   "cell_type": "code",
   "execution_count": 45,
   "metadata": {
    "collapsed": false
   },
   "outputs": [
    {
     "name": "stdout",
     "output_type": "stream",
     "text": [
      "[1]\n"
     ]
    }
   ],
   "source": [
    "uc_predict = log.predict(UC_Test_2017)\n",
    "print(uc_predict)"
   ]
  },
  {
   "cell_type": "code",
   "execution_count": null,
   "metadata": {
    "collapsed": true
   },
   "outputs": [],
   "source": []
  }
 ],
 "metadata": {
  "anaconda-cloud": {},
  "kernelspec": {
   "display_name": "Python [conda env:intro_to_ds]",
   "language": "python",
   "name": "conda-env-intro_to_ds-py"
  },
  "language_info": {
   "codemirror_mode": {
    "name": "ipython",
    "version": 3
   },
   "file_extension": ".py",
   "mimetype": "text/x-python",
   "name": "python",
   "nbconvert_exporter": "python",
   "pygments_lexer": "ipython3",
   "version": "3.5.2"
  }
 },
 "nbformat": 4,
 "nbformat_minor": 1
}
